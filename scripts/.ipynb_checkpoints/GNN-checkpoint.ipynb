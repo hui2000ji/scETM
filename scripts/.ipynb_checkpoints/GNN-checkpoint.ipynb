{
 "cells": [
  {
   "cell_type": "code",
   "execution_count": null,
   "metadata": {},
   "outputs": [],
   "source": [
    "import torch_geometric\n",
    "import anndata\n",
    "import scanpy as sc\n",
    "from scvi.dataset import CortexDataset"
   ]
  },
  {
   "cell_type": "code",
   "execution_count": 1,
   "metadata": {},
   "outputs": [
    {
     "data": {
      "text/plain": [
       "2"
      ]
     },
     "execution_count": 1,
     "metadata": {},
     "output_type": "execute_result"
    }
   ],
   "source": [
    "1+1"
   ]
  },
  {
   "cell_type": "code",
   "execution_count": 2,
   "metadata": {},
   "outputs": [],
   "source": [
    "import anndata"
   ]
  },
  {
   "cell_type": "code",
   "execution_count": 3,
   "metadata": {},
   "outputs": [],
   "source": [
    "import scanpy as sc"
   ]
  },
  {
   "cell_type": "code",
   "execution_count": 10,
   "metadata": {},
   "outputs": [],
   "source": [
    "from scvi.data import cortex"
   ]
  },
  {
   "cell_type": "code",
   "execution_count": 11,
   "metadata": {},
   "outputs": [],
   "source": [
    "cortex?"
   ]
  },
  {
   "cell_type": "code",
   "execution_count": null,
   "metadata": {},
   "outputs": [],
   "source": [
    "adata = CortexDataset('../../../data/cortex')"
   ]
  },
  {
   "cell_type": "code",
   "execution_count": 2,
   "metadata": {},
   "outputs": [
    {
     "name": "stdout",
     "output_type": "stream",
     "text": [
      "\u001b[1;31mInit signature:\u001b[0m\n",
      "\u001b[0mtorch_geometric\u001b[0m\u001b[1;33m.\u001b[0m\u001b[0mdata\u001b[0m\u001b[1;33m.\u001b[0m\u001b[0mData\u001b[0m\u001b[1;33m(\u001b[0m\u001b[1;33m\n",
      "\u001b[0m    \u001b[0mx\u001b[0m\u001b[1;33m=\u001b[0m\u001b[1;32mNone\u001b[0m\u001b[1;33m,\u001b[0m\u001b[1;33m\n",
      "\u001b[0m    \u001b[0medge_index\u001b[0m\u001b[1;33m=\u001b[0m\u001b[1;32mNone\u001b[0m\u001b[1;33m,\u001b[0m\u001b[1;33m\n",
      "\u001b[0m    \u001b[0medge_attr\u001b[0m\u001b[1;33m=\u001b[0m\u001b[1;32mNone\u001b[0m\u001b[1;33m,\u001b[0m\u001b[1;33m\n",
      "\u001b[0m    \u001b[0my\u001b[0m\u001b[1;33m=\u001b[0m\u001b[1;32mNone\u001b[0m\u001b[1;33m,\u001b[0m\u001b[1;33m\n",
      "\u001b[0m    \u001b[0mpos\u001b[0m\u001b[1;33m=\u001b[0m\u001b[1;32mNone\u001b[0m\u001b[1;33m,\u001b[0m\u001b[1;33m\n",
      "\u001b[0m    \u001b[0mnormal\u001b[0m\u001b[1;33m=\u001b[0m\u001b[1;32mNone\u001b[0m\u001b[1;33m,\u001b[0m\u001b[1;33m\n",
      "\u001b[0m    \u001b[0mface\u001b[0m\u001b[1;33m=\u001b[0m\u001b[1;32mNone\u001b[0m\u001b[1;33m,\u001b[0m\u001b[1;33m\n",
      "\u001b[0m    \u001b[1;33m**\u001b[0m\u001b[0mkwargs\u001b[0m\u001b[1;33m,\u001b[0m\u001b[1;33m\n",
      "\u001b[0m\u001b[1;33m)\u001b[0m\u001b[1;33m\u001b[0m\u001b[1;33m\u001b[0m\u001b[0m\n",
      "\u001b[1;31mDocstring:\u001b[0m     \n",
      "A plain old python object modeling a single graph with various\n",
      "(optional) attributes:\n",
      "\n",
      "Args:\n",
      "    x (Tensor, optional): Node feature matrix with shape :obj:`[num_nodes,\n",
      "        num_node_features]`. (default: :obj:`None`)\n",
      "    edge_index (LongTensor, optional): Graph connectivity in COO format\n",
      "        with shape :obj:`[2, num_edges]`. (default: :obj:`None`)\n",
      "    edge_attr (Tensor, optional): Edge feature matrix with shape\n",
      "        :obj:`[num_edges, num_edge_features]`. (default: :obj:`None`)\n",
      "    y (Tensor, optional): Graph or node targets with arbitrary shape.\n",
      "        (default: :obj:`None`)\n",
      "    pos (Tensor, optional): Node position matrix with shape\n",
      "        :obj:`[num_nodes, num_dimensions]`. (default: :obj:`None`)\n",
      "    normal (Tensor, optional): Normal vector matrix with shape\n",
      "        :obj:`[num_nodes, num_dimensions]`. (default: :obj:`None`)\n",
      "    face (LongTensor, optional): Face adjacency matrix with shape\n",
      "        :obj:`[3, num_faces]`. (default: :obj:`None`)\n",
      "\n",
      "The data object is not restricted to these attributes and can be extented\n",
      "by any other additional data.\n",
      "\n",
      "Example::\n",
      "\n",
      "    data = Data(x=x, edge_index=edge_index)\n",
      "    data.train_idx = torch.tensor([...], dtype=torch.long)\n",
      "    data.test_mask = torch.tensor([...], dtype=torch.bool)\n",
      "\u001b[1;31mFile:\u001b[0m           d:\\programdata\\anaconda3\\envs\\pyg\\lib\\site-packages\\torch_geometric\\data\\data.py\n",
      "\u001b[1;31mType:\u001b[0m           type\n",
      "\u001b[1;31mSubclasses:\u001b[0m     Batch, EgoData, TrackingData\n"
     ]
    }
   ],
   "source": [
    "torch_geometric.data.Data(x = , edge_index = )"
   ]
  }
 ],
 "metadata": {
  "kernelspec": {
   "display_name": "Python 3",
   "language": "python",
   "name": "python3"
  },
  "language_info": {
   "codemirror_mode": {
    "name": "ipython",
    "version": 3
   },
   "file_extension": ".py",
   "mimetype": "text/x-python",
   "name": "python",
   "nbconvert_exporter": "python",
   "pygments_lexer": "ipython3",
   "version": "3.7.9"
  }
 },
 "nbformat": 4,
 "nbformat_minor": 2
}
